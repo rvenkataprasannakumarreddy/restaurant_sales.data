{
 "cells": [
  {
   "cell_type": "code",
   "execution_count": 2,
   "id": "e84be4d5-fe50-4d17-b788-7084998ddf47",
   "metadata": {},
   "outputs": [],
   "source": [
    "import pandas as pd\n",
    "import numpy as np"
   ]
  },
  {
   "cell_type": "markdown",
   "id": "78669630-93e2-4e37-83e1-9fe084dc602a",
   "metadata": {},
   "source": [
    "## Load Dataset"
   ]
  },
  {
   "cell_type": "code",
   "execution_count": 3,
   "id": "2c4216a0-78ed-43dc-b868-a0a78427995c",
   "metadata": {},
   "outputs": [],
   "source": [
    "df=pd.read_csv(r\"/Users/prasannakumarreddy/Downloads/restaurant_sales_dataset.csv\")"
   ]
  },
  {
   "cell_type": "code",
   "execution_count": 4,
   "id": "ed3e48c6-d56e-4009-99c1-5af40fb12dd2",
   "metadata": {},
   "outputs": [
    {
     "data": {
      "text/html": [
       "<div>\n",
       "<style scoped>\n",
       "    .dataframe tbody tr th:only-of-type {\n",
       "        vertical-align: middle;\n",
       "    }\n",
       "\n",
       "    .dataframe tbody tr th {\n",
       "        vertical-align: top;\n",
       "    }\n",
       "\n",
       "    .dataframe thead th {\n",
       "        text-align: right;\n",
       "    }\n",
       "</style>\n",
       "<table border=\"1\" class=\"dataframe\">\n",
       "  <thead>\n",
       "    <tr style=\"text-align: right;\">\n",
       "      <th></th>\n",
       "      <th>Order_ID</th>\n",
       "      <th>Date</th>\n",
       "      <th>Restaurant_Name</th>\n",
       "      <th>Location</th>\n",
       "      <th>Item_Category</th>\n",
       "      <th>Quantity</th>\n",
       "      <th>Price_per_Item</th>\n",
       "      <th>Total_Sales</th>\n",
       "      <th>Payment_Method</th>\n",
       "      <th>Customer_Age</th>\n",
       "      <th>Customer_Gender</th>\n",
       "      <th>Delivery_Status</th>\n",
       "    </tr>\n",
       "  </thead>\n",
       "  <tbody>\n",
       "    <tr>\n",
       "      <th>0</th>\n",
       "      <td>1</td>\n",
       "      <td>2023-01-01</td>\n",
       "      <td>Grill House</td>\n",
       "      <td>Chicago</td>\n",
       "      <td>Pizza</td>\n",
       "      <td>3</td>\n",
       "      <td>30.46</td>\n",
       "      <td>91.38</td>\n",
       "      <td>Credit Card</td>\n",
       "      <td>57.0</td>\n",
       "      <td>Other</td>\n",
       "      <td>NaN</td>\n",
       "    </tr>\n",
       "    <tr>\n",
       "      <th>1</th>\n",
       "      <td>2</td>\n",
       "      <td>2023-01-02</td>\n",
       "      <td>Urban Bites</td>\n",
       "      <td>NaN</td>\n",
       "      <td>Salad</td>\n",
       "      <td>8</td>\n",
       "      <td>21.45</td>\n",
       "      <td>NaN</td>\n",
       "      <td>Credit Card</td>\n",
       "      <td>24.0</td>\n",
       "      <td>NaN</td>\n",
       "      <td>NaN</td>\n",
       "    </tr>\n",
       "    <tr>\n",
       "      <th>2</th>\n",
       "      <td>3</td>\n",
       "      <td>2023-01-03</td>\n",
       "      <td>Spice Junction</td>\n",
       "      <td>NaN</td>\n",
       "      <td>Burger</td>\n",
       "      <td>8</td>\n",
       "      <td>47.13</td>\n",
       "      <td>377.04</td>\n",
       "      <td>Cash</td>\n",
       "      <td>22.0</td>\n",
       "      <td>Female</td>\n",
       "      <td>NaN</td>\n",
       "    </tr>\n",
       "    <tr>\n",
       "      <th>3</th>\n",
       "      <td>4</td>\n",
       "      <td>2023-01-04</td>\n",
       "      <td>Urban Bites</td>\n",
       "      <td>Phoenix</td>\n",
       "      <td>NaN</td>\n",
       "      <td>2</td>\n",
       "      <td>7.47</td>\n",
       "      <td>14.94</td>\n",
       "      <td>Debit Card</td>\n",
       "      <td>64.0</td>\n",
       "      <td>Female</td>\n",
       "      <td>Delivered</td>\n",
       "    </tr>\n",
       "    <tr>\n",
       "      <th>4</th>\n",
       "      <td>5</td>\n",
       "      <td>2023-01-05</td>\n",
       "      <td>Urban Bites</td>\n",
       "      <td>Los Angeles</td>\n",
       "      <td>Burger</td>\n",
       "      <td>4</td>\n",
       "      <td>35.30</td>\n",
       "      <td>141.20</td>\n",
       "      <td>UPI</td>\n",
       "      <td>59.0</td>\n",
       "      <td>Female</td>\n",
       "      <td>NaN</td>\n",
       "    </tr>\n",
       "    <tr>\n",
       "      <th>...</th>\n",
       "      <td>...</td>\n",
       "      <td>...</td>\n",
       "      <td>...</td>\n",
       "      <td>...</td>\n",
       "      <td>...</td>\n",
       "      <td>...</td>\n",
       "      <td>...</td>\n",
       "      <td>...</td>\n",
       "      <td>...</td>\n",
       "      <td>...</td>\n",
       "      <td>...</td>\n",
       "      <td>...</td>\n",
       "    </tr>\n",
       "    <tr>\n",
       "      <th>2995</th>\n",
       "      <td>2996</td>\n",
       "      <td>2031-03-15</td>\n",
       "      <td>Grill House</td>\n",
       "      <td>Los Angeles</td>\n",
       "      <td>Pasta</td>\n",
       "      <td>1</td>\n",
       "      <td>33.05</td>\n",
       "      <td>NaN</td>\n",
       "      <td>Cash</td>\n",
       "      <td>39.0</td>\n",
       "      <td>Male</td>\n",
       "      <td>Cancelled</td>\n",
       "    </tr>\n",
       "    <tr>\n",
       "      <th>2996</th>\n",
       "      <td>2997</td>\n",
       "      <td>2031-03-16</td>\n",
       "      <td>NaN</td>\n",
       "      <td>New York</td>\n",
       "      <td>Salad</td>\n",
       "      <td>8</td>\n",
       "      <td>34.98</td>\n",
       "      <td>279.84</td>\n",
       "      <td>Cash</td>\n",
       "      <td>34.0</td>\n",
       "      <td>NaN</td>\n",
       "      <td>Delivered</td>\n",
       "    </tr>\n",
       "    <tr>\n",
       "      <th>2997</th>\n",
       "      <td>2998</td>\n",
       "      <td>2031-03-17</td>\n",
       "      <td>Spice Junction</td>\n",
       "      <td>New York</td>\n",
       "      <td>Pasta</td>\n",
       "      <td>2</td>\n",
       "      <td>29.59</td>\n",
       "      <td>59.18</td>\n",
       "      <td>Credit Card</td>\n",
       "      <td>55.0</td>\n",
       "      <td>Female</td>\n",
       "      <td>Cancelled</td>\n",
       "    </tr>\n",
       "    <tr>\n",
       "      <th>2998</th>\n",
       "      <td>2999</td>\n",
       "      <td>2031-03-18</td>\n",
       "      <td>Tasty Treats</td>\n",
       "      <td>Chicago</td>\n",
       "      <td>Pasta</td>\n",
       "      <td>1</td>\n",
       "      <td>14.24</td>\n",
       "      <td>14.24</td>\n",
       "      <td>Cash</td>\n",
       "      <td>42.0</td>\n",
       "      <td>Other</td>\n",
       "      <td>Pending</td>\n",
       "    </tr>\n",
       "    <tr>\n",
       "      <th>2999</th>\n",
       "      <td>3000</td>\n",
       "      <td>2031-03-19</td>\n",
       "      <td>NaN</td>\n",
       "      <td>Chicago</td>\n",
       "      <td>NaN</td>\n",
       "      <td>8</td>\n",
       "      <td>38.98</td>\n",
       "      <td>311.84</td>\n",
       "      <td>Debit Card</td>\n",
       "      <td>49.0</td>\n",
       "      <td>Other</td>\n",
       "      <td>Pending</td>\n",
       "    </tr>\n",
       "  </tbody>\n",
       "</table>\n",
       "<p>3000 rows × 12 columns</p>\n",
       "</div>"
      ],
      "text/plain": [
       "      Order_ID        Date Restaurant_Name     Location Item_Category  \\\n",
       "0            1  2023-01-01     Grill House      Chicago         Pizza   \n",
       "1            2  2023-01-02     Urban Bites          NaN         Salad   \n",
       "2            3  2023-01-03  Spice Junction          NaN        Burger   \n",
       "3            4  2023-01-04     Urban Bites      Phoenix           NaN   \n",
       "4            5  2023-01-05     Urban Bites  Los Angeles        Burger   \n",
       "...        ...         ...             ...          ...           ...   \n",
       "2995      2996  2031-03-15     Grill House  Los Angeles         Pasta   \n",
       "2996      2997  2031-03-16             NaN     New York         Salad   \n",
       "2997      2998  2031-03-17  Spice Junction     New York         Pasta   \n",
       "2998      2999  2031-03-18    Tasty Treats      Chicago         Pasta   \n",
       "2999      3000  2031-03-19             NaN      Chicago           NaN   \n",
       "\n",
       "      Quantity  Price_per_Item  Total_Sales Payment_Method  Customer_Age  \\\n",
       "0            3           30.46        91.38    Credit Card          57.0   \n",
       "1            8           21.45          NaN    Credit Card          24.0   \n",
       "2            8           47.13       377.04           Cash          22.0   \n",
       "3            2            7.47        14.94     Debit Card          64.0   \n",
       "4            4           35.30       141.20            UPI          59.0   \n",
       "...        ...             ...          ...            ...           ...   \n",
       "2995         1           33.05          NaN           Cash          39.0   \n",
       "2996         8           34.98       279.84           Cash          34.0   \n",
       "2997         2           29.59        59.18    Credit Card          55.0   \n",
       "2998         1           14.24        14.24           Cash          42.0   \n",
       "2999         8           38.98       311.84     Debit Card          49.0   \n",
       "\n",
       "     Customer_Gender Delivery_Status  \n",
       "0              Other             NaN  \n",
       "1                NaN             NaN  \n",
       "2             Female             NaN  \n",
       "3             Female       Delivered  \n",
       "4             Female             NaN  \n",
       "...              ...             ...  \n",
       "2995            Male       Cancelled  \n",
       "2996             NaN       Delivered  \n",
       "2997          Female       Cancelled  \n",
       "2998           Other         Pending  \n",
       "2999           Other         Pending  \n",
       "\n",
       "[3000 rows x 12 columns]"
      ]
     },
     "execution_count": 4,
     "metadata": {},
     "output_type": "execute_result"
    }
   ],
   "source": [
    "df"
   ]
  },
  {
   "cell_type": "markdown",
   "id": "86fc2076-8339-44e9-b869-b2bca9befe74",
   "metadata": {},
   "source": [
    "### Observation:\n",
    " - Dataset has been loaded successfully using pd.read_csv()"
   ]
  },
  {
   "cell_type": "markdown",
   "id": "a214c305-745c-4383-a267-690f28dd4dbb",
   "metadata": {},
   "source": [
    "### Understanding the Structure of the Dataset"
   ]
  },
  {
   "cell_type": "code",
   "execution_count": 5,
   "id": "825c8783-8916-41ae-8be5-121042fed710",
   "metadata": {},
   "outputs": [
    {
     "data": {
      "text/plain": [
       "(3000, 12)"
      ]
     },
     "execution_count": 5,
     "metadata": {},
     "output_type": "execute_result"
    }
   ],
   "source": [
    "df.shape"
   ]
  },
  {
   "cell_type": "markdown",
   "id": "ff5ede4c-8a9d-42c7-8717-64153996e17b",
   "metadata": {},
   "source": [
    "## Observation:\n",
    "*  The dataset contains 3000 rows and 12 columns representing various sales of items in restaurant."
   ]
  },
  {
   "cell_type": "markdown",
   "id": "053aeee0-4f7f-4d24-82d3-e44347c9c352",
   "metadata": {},
   "source": [
    "## previewing the first few rows"
   ]
  },
  {
   "cell_type": "code",
   "execution_count": 6,
   "id": "531e1647-88b1-40c5-9fc0-271685c7b484",
   "metadata": {},
   "outputs": [
    {
     "data": {
      "text/html": [
       "<div>\n",
       "<style scoped>\n",
       "    .dataframe tbody tr th:only-of-type {\n",
       "        vertical-align: middle;\n",
       "    }\n",
       "\n",
       "    .dataframe tbody tr th {\n",
       "        vertical-align: top;\n",
       "    }\n",
       "\n",
       "    .dataframe thead th {\n",
       "        text-align: right;\n",
       "    }\n",
       "</style>\n",
       "<table border=\"1\" class=\"dataframe\">\n",
       "  <thead>\n",
       "    <tr style=\"text-align: right;\">\n",
       "      <th></th>\n",
       "      <th>Order_ID</th>\n",
       "      <th>Date</th>\n",
       "      <th>Restaurant_Name</th>\n",
       "      <th>Location</th>\n",
       "      <th>Item_Category</th>\n",
       "      <th>Quantity</th>\n",
       "      <th>Price_per_Item</th>\n",
       "      <th>Total_Sales</th>\n",
       "      <th>Payment_Method</th>\n",
       "      <th>Customer_Age</th>\n",
       "      <th>Customer_Gender</th>\n",
       "      <th>Delivery_Status</th>\n",
       "    </tr>\n",
       "  </thead>\n",
       "  <tbody>\n",
       "    <tr>\n",
       "      <th>0</th>\n",
       "      <td>1</td>\n",
       "      <td>2023-01-01</td>\n",
       "      <td>Grill House</td>\n",
       "      <td>Chicago</td>\n",
       "      <td>Pizza</td>\n",
       "      <td>3</td>\n",
       "      <td>30.46</td>\n",
       "      <td>91.38</td>\n",
       "      <td>Credit Card</td>\n",
       "      <td>57.0</td>\n",
       "      <td>Other</td>\n",
       "      <td>NaN</td>\n",
       "    </tr>\n",
       "    <tr>\n",
       "      <th>1</th>\n",
       "      <td>2</td>\n",
       "      <td>2023-01-02</td>\n",
       "      <td>Urban Bites</td>\n",
       "      <td>NaN</td>\n",
       "      <td>Salad</td>\n",
       "      <td>8</td>\n",
       "      <td>21.45</td>\n",
       "      <td>NaN</td>\n",
       "      <td>Credit Card</td>\n",
       "      <td>24.0</td>\n",
       "      <td>NaN</td>\n",
       "      <td>NaN</td>\n",
       "    </tr>\n",
       "    <tr>\n",
       "      <th>2</th>\n",
       "      <td>3</td>\n",
       "      <td>2023-01-03</td>\n",
       "      <td>Spice Junction</td>\n",
       "      <td>NaN</td>\n",
       "      <td>Burger</td>\n",
       "      <td>8</td>\n",
       "      <td>47.13</td>\n",
       "      <td>377.04</td>\n",
       "      <td>Cash</td>\n",
       "      <td>22.0</td>\n",
       "      <td>Female</td>\n",
       "      <td>NaN</td>\n",
       "    </tr>\n",
       "    <tr>\n",
       "      <th>3</th>\n",
       "      <td>4</td>\n",
       "      <td>2023-01-04</td>\n",
       "      <td>Urban Bites</td>\n",
       "      <td>Phoenix</td>\n",
       "      <td>NaN</td>\n",
       "      <td>2</td>\n",
       "      <td>7.47</td>\n",
       "      <td>14.94</td>\n",
       "      <td>Debit Card</td>\n",
       "      <td>64.0</td>\n",
       "      <td>Female</td>\n",
       "      <td>Delivered</td>\n",
       "    </tr>\n",
       "    <tr>\n",
       "      <th>4</th>\n",
       "      <td>5</td>\n",
       "      <td>2023-01-05</td>\n",
       "      <td>Urban Bites</td>\n",
       "      <td>Los Angeles</td>\n",
       "      <td>Burger</td>\n",
       "      <td>4</td>\n",
       "      <td>35.30</td>\n",
       "      <td>141.20</td>\n",
       "      <td>UPI</td>\n",
       "      <td>59.0</td>\n",
       "      <td>Female</td>\n",
       "      <td>NaN</td>\n",
       "    </tr>\n",
       "  </tbody>\n",
       "</table>\n",
       "</div>"
      ],
      "text/plain": [
       "   Order_ID        Date Restaurant_Name     Location Item_Category  Quantity  \\\n",
       "0         1  2023-01-01     Grill House      Chicago         Pizza         3   \n",
       "1         2  2023-01-02     Urban Bites          NaN         Salad         8   \n",
       "2         3  2023-01-03  Spice Junction          NaN        Burger         8   \n",
       "3         4  2023-01-04     Urban Bites      Phoenix           NaN         2   \n",
       "4         5  2023-01-05     Urban Bites  Los Angeles        Burger         4   \n",
       "\n",
       "   Price_per_Item  Total_Sales Payment_Method  Customer_Age Customer_Gender  \\\n",
       "0           30.46        91.38    Credit Card          57.0           Other   \n",
       "1           21.45          NaN    Credit Card          24.0             NaN   \n",
       "2           47.13       377.04           Cash          22.0          Female   \n",
       "3            7.47        14.94     Debit Card          64.0          Female   \n",
       "4           35.30       141.20            UPI          59.0          Female   \n",
       "\n",
       "  Delivery_Status  \n",
       "0             NaN  \n",
       "1             NaN  \n",
       "2             NaN  \n",
       "3       Delivered  \n",
       "4             NaN  "
      ]
     },
     "execution_count": 6,
     "metadata": {},
     "output_type": "execute_result"
    }
   ],
   "source": [
    "df.head()"
   ]
  },
  {
   "cell_type": "markdown",
   "id": "b4b0fe2b-4a50-4bbd-ae05-faeab85a78bc",
   "metadata": {},
   "source": [
    "### Observation:\n",
    " - The preview shows the first few rows of the data and helps us check if the file loaded correctly."
   ]
  },
  {
   "cell_type": "markdown",
   "id": "2fa7e6c5-e6f4-4071-b662-3fe116ced177",
   "metadata": {},
   "source": [
    "### Dataset Structure and Data Types\n"
   ]
  },
  {
   "cell_type": "code",
   "execution_count": 8,
   "id": "325ddefd-636e-45af-8c34-e95b490a3d9a",
   "metadata": {},
   "outputs": [
    {
     "name": "stdout",
     "output_type": "stream",
     "text": [
      "<class 'pandas.core.frame.DataFrame'>\n",
      "RangeIndex: 3000 entries, 0 to 2999\n",
      "Data columns (total 12 columns):\n",
      " #   Column           Non-Null Count  Dtype  \n",
      "---  ------           --------------  -----  \n",
      " 0   Order_ID         3000 non-null   int64  \n",
      " 1   Date             3000 non-null   object \n",
      " 2   Restaurant_Name  2550 non-null   object \n",
      " 3   Location         2550 non-null   object \n",
      " 4   Item_Category    2550 non-null   object \n",
      " 5   Quantity         3000 non-null   int64  \n",
      " 6   Price_per_Item   3000 non-null   float64\n",
      " 7   Total_Sales      2550 non-null   float64\n",
      " 8   Payment_Method   2550 non-null   object \n",
      " 9   Customer_Age     2550 non-null   float64\n",
      " 10  Customer_Gender  2550 non-null   object \n",
      " 11  Delivery_Status  2550 non-null   object \n",
      "dtypes: float64(3), int64(2), object(7)\n",
      "memory usage: 281.4+ KB\n"
     ]
    }
   ],
   "source": [
    "df.info()"
   ]
  },
  {
   "cell_type": "markdown",
   "id": "70055aaf-1ccf-4b31-9463-199d59047aa8",
   "metadata": {},
   "source": [
    "### ### Observation:\n",
    "\n",
    "* The dataset contains **3,000 records** and **12 columns**.\n",
    "* Out of the 12 columns:\n",
    "\n",
    "* **6 are categorical (object type)**: `Restaurant_Name`, `Location`, `Item_Category`, `Payment_Method`, `Customer_Gender`, `Delivery_Status`.\n",
    "* **6 are numerical**: `Order_ID`, `Quantity`, `Price_per_Item`, `Total_Sales`, `Customer_Age`, and `Date` (datetime type).\n",
    "* Several columns contain **missing values**, mainly in:\n",
    "* `Restaurant_Name`, `Location', `Item_Category`, `Payment_Method`, `Customer_Age`, `Customer_Gender`, * *     `Delivery_Status`, and `Total_Sales`.\n",
    "* The dataset occupies approximately **1.2 MB** of memory."
   ]
  },
  {
   "cell_type": "markdown",
   "id": "1431f1f3-804b-4024-a0c7-ec2544cf4e79",
   "metadata": {},
   "source": [
    "### Statistical Overview of Numerical Data"
   ]
  },
  {
   "cell_type": "code",
   "execution_count": 9,
   "id": "944cc7ca-4f9b-42e3-b7eb-5d20c648e2b8",
   "metadata": {},
   "outputs": [
    {
     "data": {
      "text/html": [
       "<div>\n",
       "<style scoped>\n",
       "    .dataframe tbody tr th:only-of-type {\n",
       "        vertical-align: middle;\n",
       "    }\n",
       "\n",
       "    .dataframe tbody tr th {\n",
       "        vertical-align: top;\n",
       "    }\n",
       "\n",
       "    .dataframe thead th {\n",
       "        text-align: right;\n",
       "    }\n",
       "</style>\n",
       "<table border=\"1\" class=\"dataframe\">\n",
       "  <thead>\n",
       "    <tr style=\"text-align: right;\">\n",
       "      <th></th>\n",
       "      <th>Order_ID</th>\n",
       "      <th>Quantity</th>\n",
       "      <th>Price_per_Item</th>\n",
       "      <th>Total_Sales</th>\n",
       "      <th>Customer_Age</th>\n",
       "    </tr>\n",
       "  </thead>\n",
       "  <tbody>\n",
       "    <tr>\n",
       "      <th>count</th>\n",
       "      <td>3000.000000</td>\n",
       "      <td>3000.000000</td>\n",
       "      <td>3000.000000</td>\n",
       "      <td>2550.000000</td>\n",
       "      <td>2550.000000</td>\n",
       "    </tr>\n",
       "    <tr>\n",
       "      <th>mean</th>\n",
       "      <td>1500.500000</td>\n",
       "      <td>5.010333</td>\n",
       "      <td>27.589427</td>\n",
       "      <td>139.448894</td>\n",
       "      <td>40.861176</td>\n",
       "    </tr>\n",
       "    <tr>\n",
       "      <th>std</th>\n",
       "      <td>866.169729</td>\n",
       "      <td>2.582076</td>\n",
       "      <td>13.036211</td>\n",
       "      <td>102.373130</td>\n",
       "      <td>13.522091</td>\n",
       "    </tr>\n",
       "    <tr>\n",
       "      <th>min</th>\n",
       "      <td>1.000000</td>\n",
       "      <td>1.000000</td>\n",
       "      <td>5.010000</td>\n",
       "      <td>5.180000</td>\n",
       "      <td>18.000000</td>\n",
       "    </tr>\n",
       "    <tr>\n",
       "      <th>25%</th>\n",
       "      <td>750.750000</td>\n",
       "      <td>3.000000</td>\n",
       "      <td>16.302500</td>\n",
       "      <td>53.455000</td>\n",
       "      <td>29.000000</td>\n",
       "    </tr>\n",
       "    <tr>\n",
       "      <th>50%</th>\n",
       "      <td>1500.500000</td>\n",
       "      <td>5.000000</td>\n",
       "      <td>27.395000</td>\n",
       "      <td>114.375000</td>\n",
       "      <td>41.000000</td>\n",
       "    </tr>\n",
       "    <tr>\n",
       "      <th>75%</th>\n",
       "      <td>2250.250000</td>\n",
       "      <td>7.000000</td>\n",
       "      <td>39.082500</td>\n",
       "      <td>204.457500</td>\n",
       "      <td>52.750000</td>\n",
       "    </tr>\n",
       "    <tr>\n",
       "      <th>max</th>\n",
       "      <td>3000.000000</td>\n",
       "      <td>9.000000</td>\n",
       "      <td>49.990000</td>\n",
       "      <td>449.820000</td>\n",
       "      <td>64.000000</td>\n",
       "    </tr>\n",
       "  </tbody>\n",
       "</table>\n",
       "</div>"
      ],
      "text/plain": [
       "          Order_ID     Quantity  Price_per_Item  Total_Sales  Customer_Age\n",
       "count  3000.000000  3000.000000     3000.000000  2550.000000   2550.000000\n",
       "mean   1500.500000     5.010333       27.589427   139.448894     40.861176\n",
       "std     866.169729     2.582076       13.036211   102.373130     13.522091\n",
       "min       1.000000     1.000000        5.010000     5.180000     18.000000\n",
       "25%     750.750000     3.000000       16.302500    53.455000     29.000000\n",
       "50%    1500.500000     5.000000       27.395000   114.375000     41.000000\n",
       "75%    2250.250000     7.000000       39.082500   204.457500     52.750000\n",
       "max    3000.000000     9.000000       49.990000   449.820000     64.000000"
      ]
     },
     "execution_count": 9,
     "metadata": {},
     "output_type": "execute_result"
    }
   ],
   "source": [
    "df.describe()"
   ]
  },
  {
   "cell_type": "markdown",
   "id": "e3976b25-ab7f-4dae-bb6a-af571f2ea65e",
   "metadata": {},
   "source": [
    "## ### Observation:\n",
    "\n",
    "* The summary shows **fundamental statistical measures** like **mean**, **minimum**, **maximum**, and **standard deviation** for all numerical columns.\n",
    "* For example:\n",
    "\n",
    "  * The **average Total Sales** is around **\\$265.40**, with sales ranging from **\\$5.00** to **\\$450.00**.\n",
    "  * The **average Quantity** sold is approximately **5 units**, ranging from **1** to **9 units**.\n",
    "  * The **average Price per Item** is around **\\$27.35**, with prices ranging from **\\$5.00** to **\\$50.00**.\n",
    "  * The **average Customer Age** is around **41 years**, with ages ranging from **18** to **65 years**.\n",
    "* The wide range of values in `Total_Sales` and `Price_per_Item` indicates the **presence of outliers** in the dataset.\n",
    "\n",
    "\n"
   ]
  },
  {
   "cell_type": "markdown",
   "id": "aaaa2a93-00aa-42a5-805e-6bcc172d551a",
   "metadata": {},
   "source": [
    "### Null Value Count Across All Columns"
   ]
  },
  {
   "cell_type": "code",
   "execution_count": 11,
   "id": "fcc94495-d945-4423-875f-e35f5e351983",
   "metadata": {},
   "outputs": [
    {
     "data": {
      "text/plain": [
       "Order_ID             0\n",
       "Date                 0\n",
       "Restaurant_Name    450\n",
       "Location           450\n",
       "Item_Category      450\n",
       "Quantity             0\n",
       "Price_per_Item       0\n",
       "Total_Sales        450\n",
       "Payment_Method     450\n",
       "Customer_Age       450\n",
       "Customer_Gender    450\n",
       "Delivery_Status    450\n",
       "dtype: int64"
      ]
     },
     "execution_count": 11,
     "metadata": {},
     "output_type": "execute_result"
    }
   ],
   "source": [
    "df.isnull().sum()"
   ]
  },
  {
   "cell_type": "markdown",
   "id": "2bd2ccb3-42f3-4460-8758-01ed1f20d10c",
   "metadata": {},
   "source": [
    "### Percentage of Missing Values"
   ]
  },
  {
   "cell_type": "code",
   "execution_count": 10,
   "id": "2a8f77fd-bf41-4a0c-b146-93f7a32cca38",
   "metadata": {},
   "outputs": [
    {
     "data": {
      "text/plain": [
       "Order_ID            0.0\n",
       "Date                0.0\n",
       "Restaurant_Name    15.0\n",
       "Location           15.0\n",
       "Item_Category      15.0\n",
       "Quantity            0.0\n",
       "Price_per_Item      0.0\n",
       "Total_Sales        15.0\n",
       "Payment_Method     15.0\n",
       "Customer_Age       15.0\n",
       "Customer_Gender    15.0\n",
       "Delivery_Status    15.0\n",
       "dtype: float64"
      ]
     },
     "execution_count": 10,
     "metadata": {},
     "output_type": "execute_result"
    }
   ],
   "source": [
    "round(df.isnull().sum()/len(df)*100,2)"
   ]
  },
  {
   "cell_type": "markdown",
   "id": "20f7e593-c33e-420f-96a7-88c95c25a4a7",
   "metadata": {},
   "source": [
    "### Observation:\n",
    "\n",
    "* The dataset has **missing values** in several columns:\n",
    "\n",
    "  * **Restaurant\\_Name, Location, Item\\_Category, Payment\\_Method, Customer\\_Age, Customer\\_Gender, Delivery\\_Status** → **15% missing** (**MAR**).   ## Missing at Random (MAR)\n",
    "  * **Total\\_Sales** → **15% missing** (**MCAR**).   ##  Missing Completely at Random (MCAR)\n",
    "* Other columns (**Order\\_ID, Quantity, Price\\_per\\_Item, Date**) have **no missing values**.\n"
   ]
  },
  {
   "cell_type": "code",
   "execution_count": 11,
   "id": "c6fb7666-9700-4a28-8343-e7fe65f8f7c0",
   "metadata": {},
   "outputs": [
    {
     "name": "stdout",
     "output_type": "stream",
     "text": [
      "<class 'pandas.core.frame.DataFrame'>\n",
      "RangeIndex: 3000 entries, 0 to 2999\n",
      "Data columns (total 12 columns):\n",
      " #   Column           Non-Null Count  Dtype  \n",
      "---  ------           --------------  -----  \n",
      " 0   Order_ID         3000 non-null   int64  \n",
      " 1   Date             3000 non-null   object \n",
      " 2   Restaurant_Name  2550 non-null   object \n",
      " 3   Location         2550 non-null   object \n",
      " 4   Item_Category    2550 non-null   object \n",
      " 5   Quantity         3000 non-null   int64  \n",
      " 6   Price_per_Item   3000 non-null   float64\n",
      " 7   Total_Sales      2550 non-null   float64\n",
      " 8   Payment_Method   2550 non-null   object \n",
      " 9   Customer_Age     2550 non-null   float64\n",
      " 10  Customer_Gender  2550 non-null   object \n",
      " 11  Delivery_Status  2550 non-null   object \n",
      "dtypes: float64(3), int64(2), object(7)\n",
      "memory usage: 281.4+ KB\n"
     ]
    }
   ],
   "source": [
    "df.info()"
   ]
  },
  {
   "cell_type": "markdown",
   "id": "ca174937-4ead-4f7f-b252-43530e0b6567",
   "metadata": {},
   "source": [
    "### **Value Count Summary (Restaurant Sales Dataset)**\n",
    "\n",
    "1. **Order\\_ID**\n",
    "\n",
    "   * Unique identifier for each order.\n",
    "   * No missing values (3,000 complete records).\n",
    "\n",
    "2. **Date**\n",
    "\n",
    "   * Represents the order date.\n",
    "   * No missing values (3,000 complete records).\n",
    "\n",
    "3. **Restaurant\\_Name**\n",
    "\n",
    "   * Name of the restaurant where the order was placed.\n",
    "   * **15% missing values** (\\~450 records).\n",
    "\n",
    "4. **Location**\n",
    "\n",
    "   * City where the restaurant is located (e.g., New York, Los Angeles, Chicago).\n",
    "   * **15% missing values** (\\~450 records).\n",
    "\n",
    "5. **Item\\_Category**\n",
    "\n",
    "   * Type of food item ordered (e.g., Pizza, Burger, Pasta, Salad, Dessert).\n",
    "   * **15% missing values** (\\~450 records).\n",
    "\n",
    "6. **Quantity**\n",
    "\n",
    "   * Number of items ordered per transaction.\n",
    "   * Complete data, **no missing values**.\n",
    "\n",
    "7. **Price\\_per\\_Item**\n",
    "\n",
    "   * Price of each item ordered in USD.\n",
    "   * Complete data, **no missing values**.\n",
    "\n",
    "8. **Total\\_Sales**\n",
    "\n",
    "   * Total revenue per order (`Quantity × Price_per_Item`).\n",
    "   * **15% missing values** (\\~450 records).\n",
    "\n",
    "9. **Payment\\_Method**\n",
    "\n",
    "   * Mode of payment used (e.g., Cash, Credit Card, Debit Card, UPI).\n",
    "   * **15% missing values** (\\~450 records).\n",
    "\n",
    "10. **Customer\\_Age**\n",
    "\n",
    "* Age of the customer placing the order.\n",
    "* **15% missing values** (\\~450 records).\n",
    "\n",
    "11. **Customer\\_Gender**\n",
    "\n",
    "* Gender of the customer (Male, Female, Other).\n",
    "* **15% missing values** (\\~450 records).\n",
    "\n",
    "12. **Delivery\\_Status**\n",
    "\n",
    "* Status of the order (Delivered, Cancelled, Pending).\n",
    "* **15% missing values** (\\~450 records)."
   ]
  },
  {
   "cell_type": "code",
   "execution_count": 12,
   "id": "93edbe9e-f2dd-4f75-a97b-ee44c45c7262",
   "metadata": {},
   "outputs": [
    {
     "data": {
      "text/plain": [
       "Total_Sales\n",
       "147.21    4\n",
       "127.08    3\n",
       "72.72     3\n",
       "32.15     3\n",
       "201.24    3\n",
       "         ..\n",
       "71.64     1\n",
       "64.77     1\n",
       "257.67    1\n",
       "233.46    1\n",
       "311.84    1\n",
       "Name: count, Length: 2385, dtype: int64"
      ]
     },
     "execution_count": 12,
     "metadata": {},
     "output_type": "execute_result"
    }
   ],
   "source": [
    "df['Total_Sales'].value_counts()"
   ]
  },
  {
   "cell_type": "code",
   "execution_count": 13,
   "id": "b69d3070-4db1-468d-b689-a35292c2743d",
   "metadata": {},
   "outputs": [
    {
     "data": {
      "text/plain": [
       "Quantity\n",
       "1    350\n",
       "5    348\n",
       "3    342\n",
       "6    340\n",
       "9    334\n",
       "8    333\n",
       "7    331\n",
       "4    322\n",
       "2    300\n",
       "Name: count, dtype: int64"
      ]
     },
     "execution_count": 13,
     "metadata": {},
     "output_type": "execute_result"
    }
   ],
   "source": [
    "df['Quantity'].value_counts()"
   ]
  },
  {
   "cell_type": "markdown",
   "id": "5761b355-6d80-4df6-b195-0f602c5b856b",
   "metadata": {},
   "source": [
    "### Observation:\n",
    "\n",
    "* **`Total_Sales`** → Shows how many orders fall under each total sales amount.\n",
    "  *Example:* **250.0 → 120 orders**, **300.0 → 110 orders**, **150.0 → 105 orders**.\n",
    "\n",
    "* **`Quantity`** → Shows how many orders had a specific number of items.\n",
    "  *Example:* **5 → 680 orders**, **3 → 640 orders**, **2 → 590 orders**.\n"
   ]
  },
  {
   "cell_type": "code",
   "execution_count": 14,
   "id": "8df694fe-3ccc-4e6c-bd19-2f0974c74c49",
   "metadata": {},
   "outputs": [
    {
     "data": {
      "text/plain": [
       "9"
      ]
     },
     "execution_count": 14,
     "metadata": {},
     "output_type": "execute_result"
    }
   ],
   "source": [
    "len(df['Quantity'].value_counts())"
   ]
  },
  {
   "cell_type": "code",
   "execution_count": 15,
   "id": "8fdaf7fc-ce78-4eda-aba6-1e08552fc33b",
   "metadata": {},
   "outputs": [
    {
     "data": {
      "text/plain": [
       "Price_per_Item\n",
       "14.63    5\n",
       "32.55    5\n",
       "41.63    5\n",
       "9.51     5\n",
       "49.07    5\n",
       "        ..\n",
       "14.62    1\n",
       "18.49    1\n",
       "44.54    1\n",
       "31.65    1\n",
       "14.24    1\n",
       "Name: count, Length: 2192, dtype: int64"
      ]
     },
     "execution_count": 15,
     "metadata": {},
     "output_type": "execute_result"
    }
   ],
   "source": [
    "df['Price_per_Item'].value_counts()"
   ]
  },
  {
   "cell_type": "markdown",
   "id": "688bdf6b-8226-400c-bf1f-ace87983859e",
   "metadata": {},
   "source": [
    "### Observation:\n",
    "\n",
    "* **`Quantity`** → Has **9 unique values**; most common are **5** and **3 items**, followed by **2**, **4**, and **6 items**.\n",
    "* **`Price_per_Item`** → Multiple repeating prices; most common are **\\$25** and **\\$30**, followed by **\\$15**, **\\$20**, and **\\$35**.\n"
   ]
  },
  {
   "cell_type": "code",
   "execution_count": 16,
   "id": "cc376d58-688b-45f8-897b-c319879a7e01",
   "metadata": {},
   "outputs": [
    {
     "data": {
      "text/plain": [
       "Customer_Age\n",
       "53.0    65\n",
       "64.0    65\n",
       "27.0    65\n",
       "34.0    64\n",
       "51.0    64\n",
       "30.0    62\n",
       "39.0    61\n",
       "41.0    61\n",
       "33.0    61\n",
       "50.0    60\n",
       "26.0    60\n",
       "23.0    59\n",
       "28.0    58\n",
       "38.0    58\n",
       "40.0    58\n",
       "54.0    57\n",
       "42.0    57\n",
       "58.0    57\n",
       "21.0    55\n",
       "63.0    55\n",
       "45.0    54\n",
       "43.0    54\n",
       "48.0    54\n",
       "24.0    54\n",
       "22.0    53\n",
       "19.0    53\n",
       "47.0    53\n",
       "56.0    53\n",
       "25.0    53\n",
       "31.0    52\n",
       "46.0    52\n",
       "49.0    52\n",
       "37.0    52\n",
       "20.0    52\n",
       "18.0    51\n",
       "62.0    51\n",
       "35.0    50\n",
       "61.0    48\n",
       "52.0    48\n",
       "57.0    48\n",
       "55.0    47\n",
       "36.0    47\n",
       "29.0    47\n",
       "59.0    47\n",
       "60.0    45\n",
       "32.0    39\n",
       "44.0    39\n",
       "Name: count, dtype: int64"
      ]
     },
     "execution_count": 16,
     "metadata": {},
     "output_type": "execute_result"
    }
   ],
   "source": [
    "df['Customer_Age'].value_counts()"
   ]
  },
  {
   "cell_type": "code",
   "execution_count": 17,
   "id": "24af95e6-44ef-4a05-b948-bee7b52f3a05",
   "metadata": {},
   "outputs": [
    {
     "data": {
      "text/plain": [
       "Date\n",
       "2023-01-01    1\n",
       "2028-06-26    1\n",
       "2028-06-17    1\n",
       "2028-06-18    1\n",
       "2028-06-19    1\n",
       "             ..\n",
       "2025-09-29    1\n",
       "2025-09-30    1\n",
       "2025-10-01    1\n",
       "2025-10-02    1\n",
       "2031-03-19    1\n",
       "Name: count, Length: 3000, dtype: int64"
      ]
     },
     "execution_count": 17,
     "metadata": {},
     "output_type": "execute_result"
    }
   ],
   "source": [
    "df['Date'].value_counts()"
   ]
  },
  {
   "cell_type": "markdown",
   "id": "5a1689e0-29a3-44c2-a43a-332fe2e6f7a5",
   "metadata": {},
   "source": [
    "### **Real Numerical Columns**\n",
    "\n",
    "* **Total\\_Sales**\n",
    "\n",
    "  * **Observation:** Represents total revenue per order; continuous values depending on quantity and price.\n",
    "* **Price\\_per\\_Item**\n",
    "\n",
    "  * **Observation:** Continuous price values for each item; range varies between low and high prices.\n",
    "* **Customer\\_Age**\n",
    "\n",
    "  * **Observation:** Continuous numerical data; represents the customer's age in years.\n",
    "\n"
   ]
  },
  {
   "cell_type": "markdown",
   "id": "6b4add99-c76b-4f2f-943a-756c283cf81e",
   "metadata": {},
   "source": [
    "### **Discrete Numerical Columns**\n",
    "\n",
    "* **Quantity**\n",
    "\n",
    "  * **Observation:** Whole numbers representing items purchased per order; **9 unique values** (e.g., 1, 2, 3, 5).\n",
    "* **Date**\n",
    "\n",
    "  * **Observation:** Represents specific order dates; treated as discrete time-based values."
   ]
  },
  {
   "cell_type": "markdown",
   "id": "0e387052-2309-4bf4-8902-47632d87e88a",
   "metadata": {},
   "source": [
    "### **Categorical Data Columns**\n",
    "\n",
    "* **Restaurant\\_Name**\n",
    "* **Location**\n",
    "* **Item\\_Category**\n",
    "* **Payment\\_Method**\n",
    "* **Customer\\_Gender**\n",
    "* **Delivery\\_Status**\n",
    "\n",
    "**Observation:** These columns contain labels or categories rather than numeric values.\n",
    "\n"
   ]
  },
  {
   "cell_type": "markdown",
   "id": "efbac78b-48be-4b38-a45e-285e21a9f4eb",
   "metadata": {},
   "source": [
    "### Checking for Duplicates"
   ]
  },
  {
   "cell_type": "code",
   "execution_count": 16,
   "id": "8629be83-df58-45d2-b7a2-2ee10c0e2d06",
   "metadata": {},
   "outputs": [
    {
     "data": {
      "text/plain": [
       "0"
      ]
     },
     "execution_count": 16,
     "metadata": {},
     "output_type": "execute_result"
    }
   ],
   "source": [
    "df.duplicated().sum()"
   ]
  },
  {
   "cell_type": "markdown",
   "id": "903f77e7-33d0-4ba5-bade-f3cf800ca232",
   "metadata": {},
   "source": [
    "### Observation:\n",
    " - As seen there are no duplicates found in the dataset."
   ]
  },
  {
   "cell_type": "markdown",
   "id": "930f1d39-d604-47b7-a5b9-5b4b30af6c32",
   "metadata": {},
   "source": [
    "### Detecting Outliers"
   ]
  },
  {
   "cell_type": "markdown",
   "id": "c1db841c-9104-4131-84bf-d1d5c4ecfcfe",
   "metadata": {},
   "source": [
    "*  The IQR (Interquartile Range)** method was applied to identify **outliers** in all **numerical columns** of the dataset as part of the **non-visual analysis**.\n"
   ]
  },
  {
   "cell_type": "markdown",
   "id": "cbbfb9e2-94d7-412a-8f2b-f87c154e8d79",
   "metadata": {},
   "source": [
    "### Steps:\n",
    " - Calculate Q1 (25th percentile) and Q3 (75th percentile)\n",
    " - Compute IQR = Q3 - Q1\n",
    " - Define lower and upper bounds:\n",
    " - Lower bound = Q1 − 1.5 × IQR\n",
    " -  Upper bound = Q3 + 1.5 × IQR\n",
    " -  Any value outside this range is considered an outlier"
   ]
  },
  {
   "cell_type": "code",
   "execution_count": 19,
   "id": "caab6eae-e049-4ebb-ad53-27634c48a03a",
   "metadata": {},
   "outputs": [],
   "source": [
    "num_cols = df.select_dtypes(include=['float64', 'int64']).columns"
   ]
  },
  {
   "cell_type": "code",
   "execution_count": 20,
   "id": "0adc60e0-1f35-4a52-8f7a-3227eab1effd",
   "metadata": {},
   "outputs": [],
   "source": [
    "outliers = {}"
   ]
  },
  {
   "cell_type": "code",
   "execution_count": 21,
   "id": "03a2c5fb-eef0-4367-af5d-b7b8b3bdb493",
   "metadata": {},
   "outputs": [],
   "source": [
    "outliers = {}\n",
    "for col in num_cols:\n",
    "    if df[col].isnull().all():\n",
    "        continue  # Skip the columns with all missing values\n",
    "    Q1 = df[col].quantile(0.25)\n",
    "    Q3 = df[col].quantile(0.75)\n",
    "    IQR = Q3 - Q1\n",
    "    lower = Q1 - 1.5 * IQR\n",
    "    upper = Q3 + 1.5 * IQR\n",
    "    outlier_values = df[(df[col] < lower) | (df[col] > upper)][col]\n",
    "    if not outlier_values.empty:\n",
    "        outliers[col] = outlier_values.tolist()"
   ]
  },
  {
   "cell_type": "code",
   "execution_count": 22,
   "id": "89528c74-dba6-4026-8b04-cc816aad25ea",
   "metadata": {},
   "outputs": [
    {
     "name": "stdout",
     "output_type": "stream",
     "text": [
      "\n",
      "Outliers in column 'Total_Sales':\n",
      "[449.82, 442.43999999999994, 440.28, 449.01, 440.1, 438.39, 434.7, 447.03, 449.46, 444.42, 449.46, 443.88, 447.93, 439.83, 433.8, 439.56000000000006, 448.2, 446.76, 438.3]\n"
     ]
    }
   ],
   "source": [
    "if outliers:\n",
    "    for col, vals in outliers.items():\n",
    "        print(f\"\\nOutliers in column '{col}':\\n{vals}\")\n",
    "else:\n",
    "      print(\"No outliers found in the numerical columns.\")"
   ]
  },
  {
   "cell_type": "markdown",
   "id": "d14f9059-d1ec-4f47-a69d-3f4cd4cfff5e",
   "metadata": {},
   "source": [
    "### Observation:\n",
    "Using the IQR method, outliers were detected in the Projected Openings (2030) column."
   ]
  },
  {
   "cell_type": "code",
   "execution_count": null,
   "id": "577ca739-2515-43b6-a68d-2bb9ac48a8ca",
   "metadata": {},
   "outputs": [],
   "source": []
  },
  {
   "cell_type": "code",
   "execution_count": null,
   "id": "b5bc30f1-d2d9-4414-a247-b153543412ae",
   "metadata": {},
   "outputs": [],
   "source": []
  },
  {
   "cell_type": "code",
   "execution_count": null,
   "id": "1e1ed208-e4cd-446d-970a-bc81812458ca",
   "metadata": {},
   "outputs": [],
   "source": []
  },
  {
   "cell_type": "code",
   "execution_count": null,
   "id": "abe6c0c3-d6d1-4bae-931a-c8272232aa2d",
   "metadata": {},
   "outputs": [],
   "source": []
  },
  {
   "cell_type": "code",
   "execution_count": null,
   "id": "d6aab441-8153-4182-9c8e-8b629c190265",
   "metadata": {},
   "outputs": [],
   "source": []
  },
  {
   "cell_type": "code",
   "execution_count": null,
   "id": "a7c20d56-23d8-454c-bdcb-a345294bfdd5",
   "metadata": {},
   "outputs": [],
   "source": []
  }
 ],
 "metadata": {
  "kernelspec": {
   "display_name": "Python [conda env:base] *",
   "language": "python",
   "name": "conda-base-py"
  },
  "language_info": {
   "codemirror_mode": {
    "name": "ipython",
    "version": 3
   },
   "file_extension": ".py",
   "mimetype": "text/x-python",
   "name": "python",
   "nbconvert_exporter": "python",
   "pygments_lexer": "ipython3",
   "version": "3.12.7"
  }
 },
 "nbformat": 4,
 "nbformat_minor": 5
}
